{
 "cells": [
  {
   "cell_type": "markdown",
   "metadata": {},
   "source": [
    "### Assignment 1: Python for Analytics, Summer"
   ]
  },
  {
   "cell_type": "markdown",
   "metadata": {},
   "source": [
    "* covers lectures 1-3\n",
    "* due: July 6th by 5 pm.\n",
    "* Points will be deducted if:\n",
    "    * Problems are not completed.\n",
    "    * Portions of problems are not completed.\n",
    "    * Third party modules where used when the question specified not to do so.\n",
    "    * The problem was solved in a very inefficient manner.  For instance, copying and pasting the same block of code 10 times instead of using a for loop or using a for loop when a comprehension would work."
   ]
  },
  {
   "cell_type": "markdown",
   "metadata": {},
   "source": [
    "#### Question 1 (12 points)"
   ]
  },
  {
   "cell_type": "markdown",
   "metadata": {},
   "source": [
    "Write a script that finds the sum of all numbers 1-500 that are divisible by 3 and 7. Do this 2 ways.  First using a for loop, then using a comprehension.  \n",
    "\n",
    "Print the sum out."
   ]
  },
  {
   "cell_type": "code",
   "execution_count": 1,
   "metadata": {},
   "outputs": [
    {
     "name": "stdout",
     "output_type": "stream",
     "text": [
      "[21, 42, 63, 84, 105, 126, 147, 168, 189, 210]\n",
      "5796\n"
     ]
    }
   ],
   "source": [
    "# via a for loop\n",
    "\n",
    "facts = []\n",
    "\n",
    "for num in range(1, 501):\n",
    "    if num%3 == 0 and num%7 == 0:\n",
    "        facts.append(num)\n",
    "\n",
    "print(facts[:10]) # check the first 10 numbers that are divisible by both 3 and 7\n",
    "print(sum(facts))"
   ]
  },
  {
   "cell_type": "code",
   "execution_count": 2,
   "metadata": {},
   "outputs": [
    {
     "data": {
      "text/plain": [
       "5796"
      ]
     },
     "execution_count": 2,
     "metadata": {},
     "output_type": "execute_result"
    }
   ],
   "source": [
    "# via comprehension\n",
    "\n",
    "factors = sum([i for i in range(1, 501) if i%3 == 0 and i%7 == 0])\n",
    "factors"
   ]
  },
  {
   "cell_type": "markdown",
   "metadata": {},
   "source": [
    "#### Question 2 (12 points)"
   ]
  },
  {
   "cell_type": "markdown",
   "metadata": {},
   "source": [
    "Using a for loop and enumerate, convert list a to a 3 period cumulative sum list.  For instance, the first 3 values of a are 1,2,3 so the first value in the cumulative sum list should be 6, and the final 3 values in a are 8,9,10 so the final value in cumulative sum list should be 27.\n",
    "\n",
    "Print the cumulative sum list out."
   ]
  },
  {
   "cell_type": "code",
   "execution_count": 40,
   "metadata": {},
   "outputs": [
    {
     "name": "stdout",
     "output_type": "stream",
     "text": [
      "[1, 2, 3, 4, 5, 6, 7, 8, 9, 10]\n"
     ]
    }
   ],
   "source": [
    "a = list(range(1, 11))\n",
    "print(a)"
   ]
  },
  {
   "cell_type": "code",
   "execution_count": 4,
   "metadata": {},
   "outputs": [
    {
     "name": "stdout",
     "output_type": "stream",
     "text": [
      "0 1\n",
      "1 2\n",
      "2 3\n",
      "3 4\n",
      "4 5\n",
      "5 6\n",
      "6 7\n",
      "7 8\n",
      "[6, 9, 12, 15, 18, 21, 24, 27]\n"
     ]
    }
   ],
   "source": [
    "cumSums = []\n",
    "\n",
    "for count, item in enumerate(a):\n",
    "    if count + 2 >= len(a): # so we know when to stop\n",
    "        break\n",
    "    else:\n",
    "        print(count, item) # just for reference\n",
    "        cumSums.append(a[count] + a[count + 1] + a[count + 2]) # start at a[0], then move to a[1] and so on\n",
    "\n",
    "print(cumSums)\n",
    "    "
   ]
  },
  {
   "cell_type": "markdown",
   "metadata": {},
   "source": [
    "#### Question 3 (12 points)"
   ]
  },
  {
   "cell_type": "markdown",
   "metadata": {},
   "source": [
    "Consider the list of transactions, where each inner list item is a line item on a recipt.  For instance, the first inner list indicates user A bought item_a.  Iterate the list and return a dictionary where the key is the user id (A, B, C, D) and the values are a list of items the user bought.\n",
    "\n",
    "The desired output can be seen in the sample_dct item, which shows the value for user A.\n",
    "\n",
    "Print the dictionary out."
   ]
  },
  {
   "cell_type": "code",
   "execution_count": 5,
   "metadata": {},
   "outputs": [],
   "source": [
    "transactions = [\n",
    "    [\"A\", \"item_a\"],\n",
    "    [\"B\", \"item_a\"],\n",
    "    [\"C\", \"item_a\"],\n",
    "    [\"C\", \"item_b\"],\n",
    "    [\"C\", \"item_c\"],\n",
    "    [\"B\", \"item_c\"],\n",
    "    [\"D\", \"item_b\"],\n",
    "    [\"D\", \"item_b\"]\n",
    "]"
   ]
  },
  {
   "cell_type": "code",
   "execution_count": 6,
   "metadata": {},
   "outputs": [],
   "source": [
    "sample_dct = {\n",
    "    \"A\": [\"item_a\"]\n",
    "}"
   ]
  },
  {
   "cell_type": "code",
   "execution_count": 7,
   "metadata": {},
   "outputs": [],
   "source": [
    "result_dict = {}\n",
    "\n",
    "for transaction in transactions:\n",
    "    if transaction[0] not in result_dict:\n",
    "        result_dict[transaction[0]] = [transaction[1]]\n",
    "    elif transaction[0] in result_dict:\n",
    "        result_dict[transaction[0]].append(transaction[1])"
   ]
  },
  {
   "cell_type": "code",
   "execution_count": 8,
   "metadata": {},
   "outputs": [
    {
     "data": {
      "text/plain": [
       "{'A': ['item_a'],\n",
       " 'B': ['item_a', 'item_c'],\n",
       " 'C': ['item_a', 'item_b', 'item_c'],\n",
       " 'D': ['item_b', 'item_b']}"
      ]
     },
     "execution_count": 8,
     "metadata": {},
     "output_type": "execute_result"
    }
   ],
   "source": [
    "result_dict"
   ]
  },
  {
   "cell_type": "markdown",
   "metadata": {},
   "source": [
    "#### Question 4 (12 points)"
   ]
  },
  {
   "cell_type": "markdown",
   "metadata": {},
   "source": [
    "A string can be sliced just like a list, using the bracket notation.  Using the below number, find the 3 consecutive numbers and their index positions that have the greatest sum. \n",
    "\n",
    "As an example, the string \"1324\" has 2 three number windows: 132 and 324.  The first sums to 6 and the latter sums to 9.  Thus, the answer would be 324 at corresponding index positions 1,2,3.\n",
    "\n",
    "Hint, you can pass a string to len() and get the number of characters.  You can also loop through a string using standard for i in string: syntax.\n",
    "\n",
    "Print the 3 numbers, their index values and the sum of the 3 numbers."
   ]
  },
  {
   "cell_type": "code",
   "execution_count": 9,
   "metadata": {},
   "outputs": [],
   "source": [
    "sample = \"1324\"\n",
    "\n",
    "# results should be\n",
    "max_val = 9\n",
    "index_vals = [1,2,3]"
   ]
  },
  {
   "cell_type": "code",
   "execution_count": 10,
   "metadata": {},
   "outputs": [
    {
     "data": {
      "text/plain": [
       "23"
      ]
     },
     "execution_count": 10,
     "metadata": {},
     "output_type": "execute_result"
    }
   ],
   "source": [
    "a = \"35240553124363235435234\"\n",
    "n = len(a)\n",
    "n"
   ]
  },
  {
   "cell_type": "code",
   "execution_count": 12,
   "metadata": {},
   "outputs": [
    {
     "name": "stdout",
     "output_type": "stream",
     "text": [
      "13\n",
      "[5, 6, 7]\n"
     ]
    }
   ],
   "source": [
    "import sys\n",
    "counter = 0\n",
    "\n",
    "'''\n",
    "set some really big negative number to ensure that window_sum becomes max_sum on first iteration\n",
    "\n",
    "'''\n",
    "\n",
    "max_sum = -sys.maxsize - 1 \n",
    "\n",
    "for i in range(n-2): # we set n-2 because we don't ever want counter to have value greater than n\n",
    "    window_sum = int(a[counter]) + int(a[counter + 1]) + int(a[counter + 2])\n",
    "    if window_sum > max_sum:\n",
    "        max_sum = window_sum # set max_sum to the latest value of window_sum if the condition evaluates to true\n",
    "        indices = [counter, counter + 1, counter + 2] # save the indices associated with any given value of max_sum\n",
    "    counter += 1 # add one to counter and iterate again\n",
    "\n",
    "\n",
    "print(max_sum)\n",
    "print(indices)"
   ]
  },
  {
   "cell_type": "code",
   "execution_count": 13,
   "metadata": {},
   "outputs": [],
   "source": [
    "# convert to function just for kicks\n",
    "\n",
    "def maxSum(string):\n",
    "    n = len(string)\n",
    "    counter = 0\n",
    "    max_sum = -sys.maxsize - 1\n",
    "    for i in range(n-2):\n",
    "        window_sum = int(a[counter]) + int(a[counter + 1]) + int(a[counter + 2])\n",
    "        if window_sum > max_sum:\n",
    "            max_sum = window_sum\n",
    "            indices = [counter, counter + 1, counter + 2]\n",
    "        counter += 1\n",
    "    return max_sum, indices"
   ]
  },
  {
   "cell_type": "markdown",
   "metadata": {},
   "source": [
    "I wanted to keep the code below as reference because I think it's really clean, but I ended up abandoning it because I couldn't find a way to store index values of the new maximum sum. Took inspiration from the second function shown here, but I needed to adapt it (minor) so that it could work with a string. https://www.geeksforgeeks.org/window-sliding-technique/"
   ]
  },
  {
   "cell_type": "code",
   "execution_count": 116,
   "metadata": {},
   "outputs": [
    {
     "name": "stdout",
     "output_type": "stream",
     "text": [
      "13\n"
     ]
    }
   ],
   "source": [
    "a = \"35240553124363235435234\"\n",
    "n = len(a)\n",
    "k = 3\n",
    "\n",
    "max_sum = int(a[0]) + int(a[1]) + int(a[2]) # manually initialize the first consecutive sum\n",
    "window_sum = max_sum # before iterating, assume the first 3 (or k) elements in a are our maximum sum\n",
    "\n",
    "for i in range(n - k): \n",
    "        window_sum = window_sum - int(a[i]) + int(a[i + k])\n",
    "        max_sum = max(window_sum, max_sum)\n",
    "\n",
    "print(max_sum)"
   ]
  },
  {
   "cell_type": "markdown",
   "metadata": {},
   "source": [
    "#### Question 5 (12 points)"
   ]
  },
  {
   "cell_type": "markdown",
   "metadata": {},
   "source": [
    "Make a normalization function.  The function will, by default, normalize the data to 0-1 scale.  But, if the keyword argument \"z_score_norm\" is set to True, then use z score normalization.  The below calculations can be used to perform these normalizations.  Do this without any third party modules such as Numpy.\n",
    "\n",
    "* 0-1 scale\n",
    "    * (x-min(x))/(max(x)-min(x))\n",
    "\n",
    "* zscore normalaization\n",
    "    * std = sqrt(mean(abs(x - x.mean())**2))\n",
    "    * zscore = (x - mean(x))/std\n",
    "    \n",
    "Test the function on a list of numbers 1,2,3,4,5 and print out the 0-1 scaled and zscore scaled arrays."
   ]
  },
  {
   "cell_type": "code",
   "execution_count": 16,
   "metadata": {},
   "outputs": [],
   "source": [
    "y = [1, 2, 3, 4, 5]"
   ]
  },
  {
   "cell_type": "code",
   "execution_count": 17,
   "metadata": {},
   "outputs": [],
   "source": [
    "def normalize(lst, **kwargs):\n",
    "    if 'z_score_norm' in kwargs:\n",
    "        n = len(lst)\n",
    "        avg = sum(lst)/n\n",
    "        std = (sum([(i - avg)**2 for i in lst]) / n)**(1/2)\n",
    "        norm_lst = [round((i - avg) / std, 4) for i in lst]\n",
    "    else:\n",
    "        norm_lst = [round((x - min(lst))/(max(lst) - min(lst)), 4) for x in lst]\n",
    "    return norm_lst"
   ]
  },
  {
   "cell_type": "code",
   "execution_count": 18,
   "metadata": {},
   "outputs": [
    {
     "data": {
      "text/plain": [
       "[0.0, 0.25, 0.5, 0.75, 1.0]"
      ]
     },
     "execution_count": 18,
     "metadata": {},
     "output_type": "execute_result"
    }
   ],
   "source": [
    "normalize(y)"
   ]
  },
  {
   "cell_type": "code",
   "execution_count": 19,
   "metadata": {},
   "outputs": [
    {
     "data": {
      "text/plain": [
       "[-1.4142, -0.7071, 0.0, 0.7071, 1.4142]"
      ]
     },
     "execution_count": 19,
     "metadata": {},
     "output_type": "execute_result"
    }
   ],
   "source": [
    "normalize(y, z_score_norm = True)"
   ]
  },
  {
   "cell_type": "markdown",
   "metadata": {},
   "source": [
    "#### Question 6 (20 points)"
   ]
  },
  {
   "cell_type": "markdown",
   "metadata": {},
   "source": [
    "Make a data profiler class that takes as params on the init a list of data.  have methods:\n",
    "\n",
    "* filter: params should be \"how\" and value. how should be \"lt\" or \"tt\" for less than or greater than, value should be the filter value in the rule\n",
    "* get_summary_stats: should calculate the mean, min and max. No parameters are needed in this method. \n",
    "* min_max_scale: converts the array to 0-1 values.\n",
    "* zscore_scale: converts the array to zscores.\n",
    "\n",
    "Be sure to bind the summary stats and normalized data using self.  Do not use any third party modules like Numpy.\n",
    "\n",
    "Test the class and each method on a list of 1,2,3,4,5.  Print out the summary stats, scaled data and zscore scaled data on the list (unfiltered)."
   ]
  },
  {
   "cell_type": "code",
   "execution_count": 32,
   "metadata": {},
   "outputs": [],
   "source": [
    "class DataProfiler:\n",
    "    \n",
    "    def __init__(self, data):\n",
    "        self.data = data\n",
    "        \n",
    "    def filt(self, value, how):\n",
    "        if how == 'greater than':\n",
    "            filt_data = [i for i in self.data if i > value]\n",
    "        elif how == 'less than':\n",
    "            filt_data = [i for i in self.data if i < value]\n",
    "        else:\n",
    "            print('Invalid parameter value given for how.')\n",
    "        return filt_data\n",
    "    \n",
    "    def get_summary_stats(self):\n",
    "        self.mean_val = sum(self.data) / len(self.data)\n",
    "        self.max_val = max(self.data)\n",
    "        self.min_val = min(self.data)\n",
    "        return self.mean_val, self.max_val, self.min_val\n",
    "    \n",
    "    def min_max_scale(self):\n",
    "        self.normalized_data = [round((i - min(self.data))/(max(self.data) - min(self.data)), 4) for i in self.data]\n",
    "        return self.normalized_data\n",
    "    \n",
    "    def zscore_scale(self):\n",
    "        n = len(self.data)\n",
    "        avg = sum(self.data)/n\n",
    "        std = (sum([(i - avg)**2 for i in self.data]) / n)**(1/2)\n",
    "        self.normalized_data = [round((i - avg) / std, 4) for i in self.data]\n",
    "        return self.normalized_data"
   ]
  },
  {
   "cell_type": "code",
   "execution_count": 33,
   "metadata": {},
   "outputs": [
    {
     "data": {
      "text/plain": [
       "[1, 2, 3, 4, 5]"
      ]
     },
     "execution_count": 33,
     "metadata": {},
     "output_type": "execute_result"
    }
   ],
   "source": [
    "test_profile = DataProfiler(y)\n",
    "\n",
    "test_profile.data"
   ]
  },
  {
   "cell_type": "code",
   "execution_count": 31,
   "metadata": {},
   "outputs": [
    {
     "data": {
      "text/plain": [
       "[2, 3, 4, 5]"
      ]
     },
     "execution_count": 31,
     "metadata": {},
     "output_type": "execute_result"
    }
   ],
   "source": [
    "test_profile.filt(1, 'greater than')"
   ]
  },
  {
   "cell_type": "code",
   "execution_count": 34,
   "metadata": {},
   "outputs": [
    {
     "data": {
      "text/plain": [
       "(3.0, 5, 1)"
      ]
     },
     "execution_count": 34,
     "metadata": {},
     "output_type": "execute_result"
    }
   ],
   "source": [
    "test_profile.get_summary_stats()"
   ]
  },
  {
   "cell_type": "code",
   "execution_count": 36,
   "metadata": {},
   "outputs": [
    {
     "data": {
      "text/plain": [
       "[0.0, 0.25, 0.5, 0.75, 1.0]"
      ]
     },
     "execution_count": 36,
     "metadata": {},
     "output_type": "execute_result"
    }
   ],
   "source": [
    "test_profile.min_max_scale()"
   ]
  },
  {
   "cell_type": "code",
   "execution_count": 37,
   "metadata": {},
   "outputs": [
    {
     "data": {
      "text/plain": [
       "[-1.4142, -0.7071, 0.0, 0.7071, 1.4142]"
      ]
     },
     "execution_count": 37,
     "metadata": {},
     "output_type": "execute_result"
    }
   ],
   "source": [
    "test_profile.zscore_scale()"
   ]
  },
  {
   "cell_type": "markdown",
   "metadata": {},
   "source": [
    "#### Question 7 (20 points)"
   ]
  },
  {
   "cell_type": "markdown",
   "metadata": {},
   "source": [
    "Make a time series class.  On initialization, pass in a list of data.  Create the below methods:\n",
    "\n",
    "* get_moving_sum: takes as a param the window size used to calculate the sum.  Use an assert to make sure the window size isn't bigger then the list.\n",
    "* get_moving_average:  takes as a param the window size used to calculate the rolling mean.  Use an assert to make sure the window size isn't bigger then the list.\n",
    "* get_rolling_difference:  calculates the period over period percent change.\n",
    "\n",
    "Do not use any third party modules like Numpy to perform the calculations.\n",
    "\n",
    "Run each method using a window of 3 (if applicable) using a list of numbers 0-10.  Print the moving avverage, moving sum and rolling difference data out."
   ]
  },
  {
   "cell_type": "code",
   "execution_count": 132,
   "metadata": {},
   "outputs": [],
   "source": [
    "class TimeSeries:\n",
    "    \n",
    "    def __init__(self, data):\n",
    "        self.data = data\n",
    "        \n",
    "    def get_moving_sums(self, window_size):\n",
    "        n = len(self.data)\n",
    "        #moving_s\n",
    "        assert window_size <= n, \"given window size is larger than your data!\"\n",
    "        moving_sums = [sum(self.data[: i+1]) if i < (window_size - 1) else sum(self.data[i - (window_size - 1):i+1]) for i in range(n)]\n",
    "        return moving_sums[2:]\n",
    "    \n",
    "    def get_moving_avg(self, window_size):\n",
    "        n = len(self.data)\n",
    "        moving_avgs = []\n",
    "        assert window_size <= n, \"given window size is larger than your data!\"\n",
    "        for i in range(n): # use for loop since this is less readable in comprehension form\n",
    "            if i < (window_size - 1):\n",
    "                moving_avgs.append(sum(self.data[: i+1]) / len(self.data[: i+1]))\n",
    "            else:\n",
    "                moving_avgs.append(sum(self.data[i - (window_size - 1):i+1]) / len(self.data[i - (window_size - 1):i+1]))\n",
    "        return moving_avgs[2:]\n",
    "    \n",
    "    def get_rolling_diff(self):\n",
    "        n = len(self.data)\n",
    "        rolling_diffs = [round(((self.data[i+1] - self.data[i])/self.data[i])*100, 0) for i in range(n-1)]\n",
    "        return rolling_diffs\n",
    "    "
   ]
  },
  {
   "cell_type": "code",
   "execution_count": 116,
   "metadata": {},
   "outputs": [
    {
     "data": {
      "text/plain": [
       "[0, 1, 2, 3, 4, 5, 6, 7, 8, 9, 10]"
      ]
     },
     "execution_count": 116,
     "metadata": {},
     "output_type": "execute_result"
    }
   ],
   "source": [
    "test_list = list(range(11))\n",
    "test_data = TimeSeries(test_list)\n",
    "test_data.data"
   ]
  },
  {
   "cell_type": "code",
   "execution_count": 89,
   "metadata": {
    "scrolled": true
   },
   "outputs": [
    {
     "data": {
      "text/plain": [
       "[3, 6, 9, 12, 15, 18, 21, 24, 27]"
      ]
     },
     "execution_count": 89,
     "metadata": {},
     "output_type": "execute_result"
    }
   ],
   "source": [
    "test_data.get_moving_sums(3)"
   ]
  },
  {
   "cell_type": "code",
   "execution_count": 90,
   "metadata": {},
   "outputs": [
    {
     "data": {
      "text/plain": [
       "[1.0, 2.0, 3.0, 4.0, 5.0, 6.0, 7.0, 8.0, 9.0]"
      ]
     },
     "execution_count": 90,
     "metadata": {},
     "output_type": "execute_result"
    }
   ],
   "source": [
    "test_data.get_moving_avg(3)"
   ]
  },
  {
   "cell_type": "code",
   "execution_count": 134,
   "metadata": {},
   "outputs": [
    {
     "data": {
      "text/plain": [
       "[1, 2, 3, 4, 5, 6, 7, 8, 9, 10]"
      ]
     },
     "execution_count": 134,
     "metadata": {},
     "output_type": "execute_result"
    }
   ],
   "source": [
    "new_test = list(range(1,11))\n",
    "new_time_series = TimeSeries(new_test)\n",
    "new_time_series.data"
   ]
  },
  {
   "cell_type": "code",
   "execution_count": 135,
   "metadata": {
    "scrolled": true
   },
   "outputs": [
    {
     "data": {
      "text/plain": [
       "[100.0, 50.0, 33.0, 25.0, 20.0, 17.0, 14.0, 12.0, 11.0]"
      ]
     },
     "execution_count": 135,
     "metadata": {},
     "output_type": "execute_result"
    }
   ],
   "source": [
    "new_time_series.get_rolling_diff() # percentages rounded to nearest whole number"
   ]
  }
 ],
 "metadata": {
  "kernelspec": {
   "display_name": "Python 3",
   "language": "python",
   "name": "python3"
  },
  "language_info": {
   "codemirror_mode": {
    "name": "ipython",
    "version": 3
   },
   "file_extension": ".py",
   "mimetype": "text/x-python",
   "name": "python",
   "nbconvert_exporter": "python",
   "pygments_lexer": "ipython3",
   "version": "3.7.4"
  }
 },
 "nbformat": 4,
 "nbformat_minor": 4
}
